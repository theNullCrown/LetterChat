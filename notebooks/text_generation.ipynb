{
 "cells": [
  {
   "cell_type": "code",
   "execution_count": 13,
   "metadata": {},
   "outputs": [
    {
     "name": "stderr",
     "output_type": "stream",
     "text": [
      "The attention mask and the pad token id were not set. As a consequence, you may observe unexpected behavior. Please pass your input's `attention_mask` to obtain reliable results.\n",
      "Setting `pad_token_id` to `eos_token_id`:50256 for open-end generation.\n"
     ]
    },
    {
     "name": "stdout",
     "output_type": "stream",
     "text": [
      "Question: Write me a cover letter\n",
      "Answer: I'm writing to you. I'm writing to you because I want to know what you think about my writing. I'm writing to you because I want to know what you think about my writing. I'm writing to you because I want to know what you think about my writing. I'm writing to you because I want to know what you think about my writing. I'm writing to you because I want to know what you think about my writing. I'm writing to you because I want to know what you think about my writing. I'm writing to you because I want to know what you think about my writing. I'm writing to you because I want to know what you think about my writing. I'm writing to you because I want to know what you think about my writing. I'm writing to you because I want to know what you think about my writing. I'm writing to you because I want to know what you think about my writing. I'm writing to you because I want to know what you think about my writing. I'm writing to you because I want to know what you think about my writing. I'm writing to you because I want to know what you think about my writing. I'm writing to you because I want to know what you think about my writing. I'm writing to you because I want to know what you think about my writing. I'm writing to you because I want to know what you think about my writing. I'm writing to you because I want to know what you think about my writing. I'm writing to you because I want to know what you think about my writing. I'm writing to you because I want to know what you think about my writing. I'm writing to you because I want to know what you think about my writing. I'm writing to you because I want to know what you think about my writing. I'm writing to you because I want to know what you think about my writing. I'm writing to you because I want to know what you think about my writing. I'm writing to you because I want to know what you think about my writing. I'm writing to you because I want to know what you think about my writing. I'm writing to you because I want to know what you think about my writing. I'm writing to you because I want to know what you think about my writing. I'm writing to you because I want\n"
     ]
    }
   ],
   "source": [
    "import torch\n",
    "from transformers import AutoModelForCausalLM, AutoTokenizer\n",
    "\n",
    "# Load the pre-trained model and tokenizer\n",
    "model = AutoModelForCausalLM.from_pretrained('gpt2')\n",
    "tokenizer = AutoTokenizer.from_pretrained('gpt2')\n",
    "\n",
    "# Set the model to evaluation mode\n",
    "model.eval()\n",
    "\n",
    "# Define a function for generating a cover letter based on a question\n",
    "def generate_cover_letter(question):\n",
    "    # Add the question as a prefix to the prompt\n",
    "    prompt = f\"Question: {question}\\nAnswer:\"\n",
    "\n",
    "    # Tokenize the prompt\n",
    "    input_ids = tokenizer.encode(prompt, return_tensors='pt')\n",
    "\n",
    "    # Generate the cover letter text\n",
    "    output = model.generate(input_ids, max_length=500, num_return_sequences=1)\n",
    "\n",
    "    # Decode the generated text\n",
    "    cover_letter = tokenizer.decode(output[0], skip_special_tokens=True)\n",
    "\n",
    "    return cover_letter\n",
    "\n",
    "# Example usage\n",
    "question = \"Write me a cover letter\"\n",
    "cover_letter = generate_cover_letter(question)\n",
    "print(cover_letter)\n"
   ]
  },
  {
   "cell_type": "code",
   "execution_count": null,
   "metadata": {},
   "outputs": [],
   "source": []
  }
 ],
 "metadata": {
  "kernelspec": {
   "display_name": "Python 3",
   "language": "python",
   "name": "python3"
  },
  "language_info": {
   "codemirror_mode": {
    "name": "ipython",
    "version": 3
   },
   "file_extension": ".py",
   "mimetype": "text/x-python",
   "name": "python",
   "nbconvert_exporter": "python",
   "pygments_lexer": "ipython3",
   "version": "3.9.17"
  },
  "orig_nbformat": 4
 },
 "nbformat": 4,
 "nbformat_minor": 2
}
